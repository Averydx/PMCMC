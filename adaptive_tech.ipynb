{
 "cells": [
  {
   "cell_type": "markdown",
   "metadata": {},
   "source": [
    "### <center> Adaptive Technique for Particle MCMC used in the Chopin Repo\n",
    "\n",
    "\n",
    "The Chopin repo, \"particles\" uses a technique for adapting the state of the Markov Chain they call vanishing adaptation. I haven't been able to find a source yet but empirically it appears to perform well and particles has the most robust implementation of PMMH I'm aware of. \n",
    "\n",
    "All of the below can be found in [github link to mcmc.py](https://github.com/nchopin/particles/blob/master/particles/mcmc.py), in the PMMH sampler class and the covariance tracker. \n",
    "\n",
    "Examining the behavior in the class VanishCovTracker, the running estimate of the covariance given the chain is computed, the initial covariance in self.Sigma0 is user defined and defaults to the identity matrix. "
   ]
  },
  {
   "cell_type": "code",
   "execution_count": 5,
   "metadata": {},
   "outputs": [],
   "source": [
    "import numpy as np\n",
    "import matplotlib.pyplot as plt\n",
    "from numpy.linalg import cholesky"
   ]
  },
  {
   "cell_type": "code",
   "execution_count": 6,
   "metadata": {},
   "outputs": [],
   "source": [
    "'''Pasted the class from the repo here to examine the components. '''\n",
    "\n",
    "class VanishCovTracker:\n",
    "    r\"\"\"Tracks the vanishing mean and covariance of a sequence of points.\n",
    "\n",
    "    Computes running mean and covariance of points\n",
    "    t^(-alpha) * X_t\n",
    "    for some alpha \\in [0,1] (typically)\n",
    "    \"\"\"\n",
    "\n",
    "    def __init__(self, alpha=0.6, dim=1, mu0=None, Sigma0=None):\n",
    "        self.alpha = alpha\n",
    "        self.t = 0\n",
    "        self.mu = np.zeros(dim) if mu0 is None else mu0\n",
    "        if Sigma0 is None:\n",
    "            self.Sigma = np.eye(dim)\n",
    "            self.L0 = np.eye(dim) #L0 is the cholesky decomposition of the covariance which can be used in computing normal distributions by hand\n",
    "        else:\n",
    "            self.Sigma = Sigma0\n",
    "            self.L0 = cholesky(Sigma0, lower=True)\n",
    "        self.L = self.L0.copy()\n",
    "\n",
    "    def gamma(self):\n",
    "        return (self.t + 1) ** (-self.alpha)  # not t, otherwise gamma(1)=1.\n",
    "\n",
    "    def update(self, v):\n",
    "        \"\"\"Adds point v\"\"\"\n",
    "        self.t += 1\n",
    "        g = self.gamma()\n",
    "        self.mu = (1.0 - g) * self.mu + g * v\n",
    "        mv = v - self.mu\n",
    "        self.Sigma = (1.0 - g) * self.Sigma + g * np.dot(\n",
    "            mv[:, np.newaxis], mv[np.newaxis, :]\n",
    "        )\n",
    "        try:\n",
    "            self.L = cholesky(self.Sigma, lower=True)\n",
    "        except LinAlgError:\n",
    "            self.L = self.L0\n",
    "\n"
   ]
  },
  {
   "cell_type": "markdown",
   "metadata": {},
   "source": [
    "The running covariance is set recursively in update. First t is incremented, which would correspond to the iteration count in the mcmc chain, then a parameter $\\mu$ is computed. \n",
    "\n",
    "$$\n",
    "g = (t + 1)^{-\\alpha} \\\\\n",
    "\\mu = (1 - g)\\mu + g v\n",
    "$$"
   ]
  },
  {
   "cell_type": "code",
   "execution_count": 20,
   "metadata": {},
   "outputs": [
    {
     "data": {
      "text/plain": [
       "[<matplotlib.lines.Line2D at 0x17363a7de80>]"
      ]
     },
     "execution_count": 20,
     "metadata": {},
     "output_type": "execute_result"
    },
    {
     "data": {
      "image/png": "[encoded data removed]",
      "text/plain": [
       "<Figure size 640x480 with 1 Axes>"
      ]
     },
     "metadata": {},
     "output_type": "display_data"
    }
   ],
   "source": [
    "def gamma(t,alpha):\n",
    "        return (t + 1) ** (-alpha)  # not t, otherwise gamma(1)=1.\n",
    "\n",
    "t = np.arange(0,100)\n",
    "\n",
    "plt.title(\"Plot of $\\\\gamma$ as a Function of Time\")\n",
    "plt.xlabel(\"Time\")\n",
    "plt.plot(t,gamma(t,0.6))"
   ]
  },
  {
   "cell_type": "code",
   "execution_count": 18,
   "metadata": {},
   "outputs": [
    {
     "name": "stdout",
     "output_type": "stream",
     "text": [
      "[[ 0.04  0.18 -0.06]\n",
      " [ 0.18  0.81 -0.27]\n",
      " [-0.06 -0.27  0.09]]\n"
     ]
    }
   ],
   "source": [
    "'''The quantity to be added to the chain is shifted by mu before the covariance is computed. Mu is user specified and defaults to a vector of zeros, \n",
    "then follows the recursive formula above.'''\n",
    "\n",
    "sigma = np.eye(3)\n",
    "mu = np.array([0.8,1.1,0.8])\n",
    "v = np.array([1.,2.,0.5])\n",
    "\n",
    "mv = v - mu\n",
    "sigma = (1 - gamma(0,0.6)) * sigma + gamma(0,0.6) * np.outer(mv,mv.T)\n",
    "\n",
    "print(sigma)\n"
   ]
  },
  {
   "cell_type": "markdown",
   "metadata": {},
   "source": []
  }
 ],
 "metadata": {
  "kernelspec": {
   "display_name": ".venv",
   "language": "python",
   "name": "python3"
  },
  "language_info": {
   "codemirror_mode": {
    "name": "ipython",
    "version": 3
   },
   "file_extension": ".py",
   "mimetype": "text/x-python",
   "name": "python",
   "nbconvert_exporter": "python",
   "pygments_lexer": "ipython3",
   "version": "3.12.4"
  }
 },
 "nbformat": 4,
 "nbformat_minor": 2
}

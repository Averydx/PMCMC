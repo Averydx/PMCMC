{
 "cells": [
  {
   "cell_type": "code",
   "execution_count": 1,
   "metadata": {},
   "outputs": [],
   "source": [
    "import pandas as pd\n",
    "import datetime\n",
    "import matplotlib.pyplot as plt"
   ]
  },
  {
   "cell_type": "code",
   "execution_count": null,
   "metadata": {},
   "outputs": [],
   "source": [
    "\n",
    "df = pd.read_csv(\"C:\\\\Users\\\\avery\\\\PF-Estimation\\\\PF_Estimation\\\\data_sets\\\\COVID-19_Reported_Patient_Impact_and_Hospital_Capacity_by_State_Timeseries__RAW_.csv\")\n",
    "df = df.sort_values(by='date')\n",
    "AZ_DATA = [];\n",
    "AZ_DATA_2223 = [];\n",
    "state = \"AZ\"\n",
    "for i in range(63779):\n",
    "  if(df.iloc[i]['state'] == state):\n",
    "    AZ_DATA.append(df.iloc[i]);\n",
    "for i in range(len(AZ_DATA)):\n",
    "  d = (datetime.datetime.strptime(AZ_DATA[i]['date'],'%Y/%m/%d'));\n",
    "  if(d > datetime.datetime(2023,10,1) and d < datetime.datetime(2024,5,15)):\n",
    "    AZ_DATA_2223.append(AZ_DATA[i]);\n",
    "hosp = [];\n",
    "first_day_of_data = 0\n",
    "#previous_day_admission_influenza_confirmed\n",
    "#previous_day_admission_adult_covid_confirmed\n",
    "#total_patients_hospitalized_confirmed_influenza\n",
    "for i in range(len(AZ_DATA_2223)):\n",
    "  if(pd.isna(AZ_DATA_2223[i]['total_patients_hospitalized_confirmed_influenza'])):\n",
    "    hosp.append(0);\n",
    "  else: \n",
    "    hosp.append(int(AZ_DATA_2223[i]['total_patients_hospitalized_confirmed_influenza']));\n",
    "    if(first_day_of_data == 0): \n",
    "      first_day_of_data = i; \n",
    "print(first_day_of_data)\n",
    "plt.ylabel(\"Hospitalizations\")\n",
    "plt.xlabel(\"Days since 10-1-2023\")\n",
    "plt.title(\"Daily Hospitalizations in \"+ state)\n",
    "plt.plot(hosp);\n",
    "df2 = pd.DataFrame(hosp);\n",
    "df2.to_csv(f'../datasets/{state}_FLU_HOSPITALIZATIONS.csv');"
   ]
  }
 ],
 "metadata": {
  "kernelspec": {
   "display_name": "Python 3",
   "language": "python",
   "name": "python3"
  },
  "language_info": {
   "codemirror_mode": {
    "name": "ipython",
    "version": 3
   },
   "file_extension": ".py",
   "mimetype": "text/x-python",
   "name": "python",
   "nbconvert_exporter": "python",
   "pygments_lexer": "ipython3",
   "version": "3.11.9"
  }
 },
 "nbformat": 4,
 "nbformat_minor": 2
}

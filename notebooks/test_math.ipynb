{
 "cells": [
  {
   "cell_type": "code",
   "execution_count": 1,
   "metadata": {},
   "outputs": [],
   "source": [
    "import sys\n",
    "import numpy as np\n",
    "sys.path.append('../')\n",
    "\n",
    "from math_utils import gammaln_nr,nbinom_logpmf\n",
    "from scipy.special import gammaln\n",
    "from scipy.stats import nbinom"
   ]
  },
  {
   "cell_type": "code",
   "execution_count": 2,
   "metadata": {},
   "outputs": [
    {
     "name": "stdout",
     "output_type": "stream",
     "text": [
      "Negative binomial Scipy: [-20.82862635 -29.96200568 -39.02824571 -43.76843262]\n",
      "Negative Binomial Custom: [-20.82862635 -29.96200568 -39.02824571 -43.76843262]\n"
     ]
    }
   ],
   "source": [
    "x = np.array([1,2,3,4])\n",
    "n = np.array([10,15,20,23])\n",
    "p = np.array([0.1])\n",
    "print(f\"Negative binomial Scipy: {nbinom.logpmf(x,n,p)}\")\n",
    "print(f\"Negative Binomial Custom: {nbinom_logpmf(x,n,p)}\")"
   ]
  }
 ],
 "metadata": {
  "kernelspec": {
   "display_name": "Python 3",
   "language": "python",
   "name": "python3"
  },
  "language_info": {
   "codemirror_mode": {
    "name": "ipython",
    "version": 3
   },
   "file_extension": ".py",
   "mimetype": "text/x-python",
   "name": "python",
   "nbconvert_exporter": "python",
   "pygments_lexer": "ipython3",
   "version": "3.11.3"
  }
 },
 "nbformat": 4,
 "nbformat_minor": 2
}
